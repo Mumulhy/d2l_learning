{
 "cells": [
  {
   "cell_type": "code",
   "execution_count": 1,
   "id": "f23eb337",
   "metadata": {
    "ExecuteTime": {
     "end_time": "2022-08-03T12:37:32.982538Z",
     "start_time": "2022-08-03T12:37:32.966513Z"
    }
   },
   "outputs": [],
   "source": [
    "import torch\n",
    "from torch import nn\n",
    "\n",
    "vocab_size, num_hiddens, num_layers = 28, 256, 2\n",
    "num_inputs = vocab_size\n",
    "lstm_layer = nn.LSTM(num_inputs, num_hiddens, num_layers, bidirectional=True)\n",
    "\n",
    "# 双向LSTM只用于特征提取不用于预测"
   ]
  }
 ],
 "metadata": {
  "kernelspec": {
   "display_name": "Python [conda env:torch-gpu]",
   "language": "python",
   "name": "conda-env-torch-gpu-py"
  },
  "language_info": {
   "codemirror_mode": {
    "name": "ipython",
    "version": 3
   },
   "file_extension": ".py",
   "mimetype": "text/x-python",
   "name": "python",
   "nbconvert_exporter": "python",
   "pygments_lexer": "ipython3",
   "version": "3.9.7"
  }
 },
 "nbformat": 4,
 "nbformat_minor": 5
}
