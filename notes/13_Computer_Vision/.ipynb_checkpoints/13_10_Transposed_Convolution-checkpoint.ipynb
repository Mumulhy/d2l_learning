{
 "cells": [
  {
   "cell_type": "code",
   "execution_count": 1,
   "id": "a2b25bb3",
   "metadata": {
    "ExecuteTime": {
     "end_time": "2022-08-09T06:14:42.581406Z",
     "start_time": "2022-08-09T06:14:39.705956Z"
    }
   },
   "outputs": [],
   "source": [
    "import torch\n",
    "from torch import nn\n",
    "from d2l import torch as d2l"
   ]
  },
  {
   "cell_type": "code",
   "execution_count": 2,
   "id": "fc324449",
   "metadata": {
    "ExecuteTime": {
     "end_time": "2022-08-09T06:16:33.940456Z",
     "start_time": "2022-08-09T06:16:33.932417Z"
    }
   },
   "outputs": [],
   "source": [
    "def trans_conv(X, K):\n",
    "    h, w = K.shape\n",
    "    Y = torch.zeros((X.shape[0] + h - 1, X.shape[1] + w - 1))\n",
    "    for i in range(X.shape[0]):\n",
    "        for j in range(X.shape[1]):\n",
    "            Y[i:i + h, j:j + w] += X[i, j] * K\n",
    "    return Y"
   ]
  },
  {
   "cell_type": "code",
   "execution_count": 3,
   "id": "d906f930",
   "metadata": {
    "ExecuteTime": {
     "end_time": "2022-08-09T06:18:10.428416Z",
     "start_time": "2022-08-09T06:18:10.315631Z"
    }
   },
   "outputs": [
    {
     "data": {
      "text/plain": [
       "tensor([[ 0.,  0.,  1.],\n",
       "        [ 0.,  4.,  6.],\n",
       "        [ 4., 12.,  9.]])"
      ]
     },
     "execution_count": 3,
     "metadata": {},
     "output_type": "execute_result"
    }
   ],
   "source": [
    "X = torch.tensor([[0., 1.], [2., 3.]])\n",
    "K = torch.tensor([[0., 1.], [2., 3.]])\n",
    "trans_conv(X, K)"
   ]
  },
  {
   "cell_type": "code",
   "execution_count": 4,
   "id": "c139fae6",
   "metadata": {
    "ExecuteTime": {
     "end_time": "2022-08-09T06:19:56.195863Z",
     "start_time": "2022-08-09T06:19:56.137659Z"
    }
   },
   "outputs": [
    {
     "data": {
      "text/plain": [
       "tensor([[[[ 0.,  0.,  1.],\n",
       "          [ 0.,  4.,  6.],\n",
       "          [ 4., 12.,  9.]]]], grad_fn=<SlowConvTranspose2DBackward0>)"
      ]
     },
     "execution_count": 4,
     "metadata": {},
     "output_type": "execute_result"
    }
   ],
   "source": [
    "X, K = X.reshape(1, 1, 2, 2), K.reshape(1, 1, 2, 2)\n",
    "tconv = nn.ConvTranspose2d(1, 1, kernel_size=2, bias=False)\n",
    "tconv.weight.data = K\n",
    "tconv(X)"
   ]
  },
  {
   "cell_type": "code",
   "execution_count": 5,
   "id": "e9282af2",
   "metadata": {
    "ExecuteTime": {
     "end_time": "2022-08-09T06:21:37.994051Z",
     "start_time": "2022-08-09T06:21:37.971114Z"
    }
   },
   "outputs": [
    {
     "data": {
      "text/plain": [
       "tensor([[[[4.]]]], grad_fn=<SlowConvTranspose2DBackward0>)"
      ]
     },
     "execution_count": 5,
     "metadata": {},
     "output_type": "execute_result"
    }
   ],
   "source": [
    "tconv = nn.ConvTranspose2d(1, 1, kernel_size=2, padding=1, bias=False)\n",
    "tconv.weight.data = K\n",
    "tconv(X)"
   ]
  },
  {
   "cell_type": "code",
   "execution_count": 6,
   "id": "890a444d",
   "metadata": {
    "ExecuteTime": {
     "end_time": "2022-08-09T06:23:35.511697Z",
     "start_time": "2022-08-09T06:23:35.500730Z"
    }
   },
   "outputs": [
    {
     "data": {
      "text/plain": [
       "tensor([[[[0., 0., 0., 1.],\n",
       "          [0., 0., 2., 3.],\n",
       "          [0., 2., 0., 3.],\n",
       "          [4., 6., 6., 9.]]]], grad_fn=<SlowConvTranspose2DBackward0>)"
      ]
     },
     "execution_count": 6,
     "metadata": {},
     "output_type": "execute_result"
    }
   ],
   "source": [
    "tconv = nn.ConvTranspose2d(1, 1, kernel_size=2, stride=2, bias=False)\n",
    "tconv.weight.data = K\n",
    "tconv(X)"
   ]
  },
  {
   "cell_type": "code",
   "execution_count": 8,
   "id": "abe3637e",
   "metadata": {
    "ExecuteTime": {
     "end_time": "2022-08-09T06:24:53.735437Z",
     "start_time": "2022-08-09T06:24:53.714294Z"
    }
   },
   "outputs": [
    {
     "data": {
      "text/plain": [
       "tensor([[[[0., 0., 0., 1., 0.],\n",
       "          [0., 0., 2., 3., 0.],\n",
       "          [0., 2., 0., 3., 0.],\n",
       "          [4., 6., 6., 9., 0.],\n",
       "          [0., 0., 0., 0., 0.]]]], grad_fn=<SlowConvTranspose2DBackward0>)"
      ]
     },
     "execution_count": 8,
     "metadata": {},
     "output_type": "execute_result"
    }
   ],
   "source": [
    "tconv = nn.ConvTranspose2d(1, 1, kernel_size=2, stride=2, output_padding=1, bias=False)\n",
    "tconv.weight.data = K\n",
    "tconv(X)"
   ]
  },
  {
   "cell_type": "code",
   "execution_count": 11,
   "id": "4b66649f",
   "metadata": {
    "ExecuteTime": {
     "end_time": "2022-08-09T06:28:34.597991Z",
     "start_time": "2022-08-09T06:28:34.583991Z"
    },
    "scrolled": true
   },
   "outputs": [
    {
     "data": {
      "text/plain": [
       "(torch.Size([1, 20, 6, 6]), torch.Size([1, 10, 16, 16]))"
      ]
     },
     "execution_count": 11,
     "metadata": {},
     "output_type": "execute_result"
    }
   ],
   "source": [
    "X = torch.rand(size=(1, 10, 16, 16))\n",
    "conv = nn.Conv2d(10, 20, kernel_size=5, stride=3, padding=2)\n",
    "tconv = nn.ConvTranspose2d(20, 10, kernel_size=5, stride=3, padding=2)\n",
    "conv(X).shape, tconv(conv(X)).shape"
   ]
  },
  {
   "cell_type": "code",
   "execution_count": 12,
   "id": "61aff7e1",
   "metadata": {
    "ExecuteTime": {
     "end_time": "2022-08-09T06:29:56.828424Z",
     "start_time": "2022-08-09T06:29:56.798504Z"
    }
   },
   "outputs": [
    {
     "data": {
      "text/plain": [
       "tensor([[27., 37.],\n",
       "        [57., 67.]])"
      ]
     },
     "execution_count": 12,
     "metadata": {},
     "output_type": "execute_result"
    }
   ],
   "source": [
    "X = torch.arange(9.0).reshape(3, 3)\n",
    "K = torch.tensor([[1., 2.], [3., 4.]])\n",
    "Y = d2l.corr2d(X, K)\n",
    "Y"
   ]
  },
  {
   "cell_type": "code",
   "execution_count": 13,
   "id": "8b0b8a2b",
   "metadata": {
    "ExecuteTime": {
     "end_time": "2022-08-09T06:32:23.375422Z",
     "start_time": "2022-08-09T06:32:23.366409Z"
    }
   },
   "outputs": [
    {
     "data": {
      "text/plain": [
       "tensor([[1., 2., 0., 3., 4., 0., 0., 0., 0.],\n",
       "        [0., 1., 2., 0., 3., 4., 0., 0., 0.],\n",
       "        [0., 0., 0., 1., 2., 0., 3., 4., 0.],\n",
       "        [0., 0., 0., 0., 1., 2., 0., 3., 4.]])"
      ]
     },
     "execution_count": 13,
     "metadata": {},
     "output_type": "execute_result"
    }
   ],
   "source": [
    "def kernel2matrix(K):\n",
    "    k, W = torch.zeros(5), torch.zeros((4, 9))\n",
    "    k[:2], k[3:5] = K[0, :], K[1, :]\n",
    "    W[0, :5], W[1, 1:6], W[2, 3:8], W[3, 4:] = k, k, k, k\n",
    "    return W\n",
    "\n",
    "W = kernel2matrix(K)\n",
    "W"
   ]
  },
  {
   "cell_type": "code",
   "execution_count": 14,
   "id": "dc7cedbe",
   "metadata": {
    "ExecuteTime": {
     "end_time": "2022-08-09T06:34:08.792346Z",
     "start_time": "2022-08-09T06:34:08.760345Z"
    }
   },
   "outputs": [
    {
     "data": {
      "text/plain": [
       "tensor([[27., 37.],\n",
       "        [57., 67.]])"
      ]
     },
     "execution_count": 14,
     "metadata": {},
     "output_type": "execute_result"
    }
   ],
   "source": [
    "torch.matmul(W, X.reshape(-1)).reshape(2, 2)"
   ]
  },
  {
   "cell_type": "code",
   "execution_count": 15,
   "id": "b4340cbf",
   "metadata": {
    "ExecuteTime": {
     "end_time": "2022-08-09T06:34:54.660149Z",
     "start_time": "2022-08-09T06:34:54.649275Z"
    }
   },
   "outputs": [
    {
     "data": {
      "text/plain": [
       "(tensor([[ 27.,  91.,  74.],\n",
       "         [138., 400., 282.],\n",
       "         [171., 429., 268.]]),\n",
       " tensor([[ 27.,  91.,  74.],\n",
       "         [138., 400., 282.],\n",
       "         [171., 429., 268.]]))"
      ]
     },
     "execution_count": 15,
     "metadata": {},
     "output_type": "execute_result"
    }
   ],
   "source": [
    "Z = trans_conv(Y, K)\n",
    "Z, torch.matmul(W.T, Y.reshape(-1)).reshape(3, 3)"
   ]
  }
 ],
 "metadata": {
  "kernelspec": {
   "display_name": "base",
   "language": "python",
   "name": "base"
  },
  "language_info": {
   "codemirror_mode": {
    "name": "ipython",
    "version": 3
   },
   "file_extension": ".py",
   "mimetype": "text/x-python",
   "name": "python",
   "nbconvert_exporter": "python",
   "pygments_lexer": "ipython3",
   "version": "3.9.7"
  }
 },
 "nbformat": 4,
 "nbformat_minor": 5
}
